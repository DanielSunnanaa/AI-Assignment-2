{
 "cells": [
  {
   "cell_type": "markdown",
   "metadata": {},
   "source": [
    "**Imports**"
   ]
  },
  {
   "cell_type": "code",
   "execution_count": 1,
   "metadata": {},
   "outputs": [],
   "source": [
    "import numpy as np\n",
    "import pandas as pd\n",
    "import matplotlib.pyplot as plt\n",
    "import DateTime as dt\n",
    "\n",
    "from sklearn import metrics\n",
    "from sklearn import preprocessing\n",
    "from sklearn.linear_model import LinearRegression\n",
    "from sklearn.model_selection import train_test_split"
   ]
  },
  {
   "cell_type": "markdown",
   "metadata": {},
   "source": [
    "**Case 1: Predicting TSLA stock prices**"
   ]
  },
  {
   "cell_type": "code",
   "execution_count": 5,
   "metadata": {},
   "outputs": [
    {
     "data": {
      "text/html": [
       "<div>\n",
       "<style scoped>\n",
       "    .dataframe tbody tr th:only-of-type {\n",
       "        vertical-align: middle;\n",
       "    }\n",
       "\n",
       "    .dataframe tbody tr th {\n",
       "        vertical-align: top;\n",
       "    }\n",
       "\n",
       "    .dataframe thead th {\n",
       "        text-align: right;\n",
       "    }\n",
       "</style>\n",
       "<table border=\"1\" class=\"dataframe\">\n",
       "  <thead>\n",
       "    <tr style=\"text-align: right;\">\n",
       "      <th></th>\n",
       "      <th>Date</th>\n",
       "      <th>Open</th>\n",
       "      <th>High</th>\n",
       "      <th>Low</th>\n",
       "      <th>Close</th>\n",
       "      <th>Adj Close</th>\n",
       "      <th>Volume</th>\n",
       "    </tr>\n",
       "  </thead>\n",
       "  <tbody>\n",
       "    <tr>\n",
       "      <th>0</th>\n",
       "      <td>2022-11-01</td>\n",
       "      <td>234.050003</td>\n",
       "      <td>237.399994</td>\n",
       "      <td>227.279999</td>\n",
       "      <td>227.820007</td>\n",
       "      <td>227.820007</td>\n",
       "      <td>62688800</td>\n",
       "    </tr>\n",
       "    <tr>\n",
       "      <th>1</th>\n",
       "      <td>2022-11-02</td>\n",
       "      <td>226.039993</td>\n",
       "      <td>227.869995</td>\n",
       "      <td>214.820007</td>\n",
       "      <td>214.979996</td>\n",
       "      <td>214.979996</td>\n",
       "      <td>63070300</td>\n",
       "    </tr>\n",
       "    <tr>\n",
       "      <th>2</th>\n",
       "      <td>2022-11-03</td>\n",
       "      <td>211.360001</td>\n",
       "      <td>221.199997</td>\n",
       "      <td>210.139999</td>\n",
       "      <td>215.309998</td>\n",
       "      <td>215.309998</td>\n",
       "      <td>56538800</td>\n",
       "    </tr>\n",
       "    <tr>\n",
       "      <th>3</th>\n",
       "      <td>2022-11-04</td>\n",
       "      <td>222.600006</td>\n",
       "      <td>223.800003</td>\n",
       "      <td>203.080002</td>\n",
       "      <td>207.470001</td>\n",
       "      <td>207.470001</td>\n",
       "      <td>98622200</td>\n",
       "    </tr>\n",
       "    <tr>\n",
       "      <th>4</th>\n",
       "      <td>2022-11-07</td>\n",
       "      <td>208.649994</td>\n",
       "      <td>208.899994</td>\n",
       "      <td>196.660004</td>\n",
       "      <td>197.080002</td>\n",
       "      <td>197.080002</td>\n",
       "      <td>93916500</td>\n",
       "    </tr>\n",
       "    <tr>\n",
       "      <th>...</th>\n",
       "      <td>...</td>\n",
       "      <td>...</td>\n",
       "      <td>...</td>\n",
       "      <td>...</td>\n",
       "      <td>...</td>\n",
       "      <td>...</td>\n",
       "      <td>...</td>\n",
       "    </tr>\n",
       "    <tr>\n",
       "      <th>246</th>\n",
       "      <td>2023-10-25</td>\n",
       "      <td>215.880005</td>\n",
       "      <td>220.100006</td>\n",
       "      <td>212.199997</td>\n",
       "      <td>212.419998</td>\n",
       "      <td>212.419998</td>\n",
       "      <td>107065100</td>\n",
       "    </tr>\n",
       "    <tr>\n",
       "      <th>247</th>\n",
       "      <td>2023-10-26</td>\n",
       "      <td>211.320007</td>\n",
       "      <td>214.800003</td>\n",
       "      <td>204.880005</td>\n",
       "      <td>205.759995</td>\n",
       "      <td>205.759995</td>\n",
       "      <td>115112600</td>\n",
       "    </tr>\n",
       "    <tr>\n",
       "      <th>248</th>\n",
       "      <td>2023-10-27</td>\n",
       "      <td>210.600006</td>\n",
       "      <td>212.410004</td>\n",
       "      <td>205.770004</td>\n",
       "      <td>207.300003</td>\n",
       "      <td>207.300003</td>\n",
       "      <td>94728100</td>\n",
       "    </tr>\n",
       "    <tr>\n",
       "      <th>249</th>\n",
       "      <td>2023-10-30</td>\n",
       "      <td>209.279999</td>\n",
       "      <td>210.880005</td>\n",
       "      <td>194.669998</td>\n",
       "      <td>197.360001</td>\n",
       "      <td>197.360001</td>\n",
       "      <td>136448200</td>\n",
       "    </tr>\n",
       "    <tr>\n",
       "      <th>250</th>\n",
       "      <td>2023-10-31</td>\n",
       "      <td>196.119995</td>\n",
       "      <td>202.800003</td>\n",
       "      <td>194.070007</td>\n",
       "      <td>200.839996</td>\n",
       "      <td>200.839996</td>\n",
       "      <td>117881000</td>\n",
       "    </tr>\n",
       "  </tbody>\n",
       "</table>\n",
       "<p>251 rows × 7 columns</p>\n",
       "</div>"
      ],
      "text/plain": [
       "           Date        Open        High         Low       Close   Adj Close  \\\n",
       "0    2022-11-01  234.050003  237.399994  227.279999  227.820007  227.820007   \n",
       "1    2022-11-02  226.039993  227.869995  214.820007  214.979996  214.979996   \n",
       "2    2022-11-03  211.360001  221.199997  210.139999  215.309998  215.309998   \n",
       "3    2022-11-04  222.600006  223.800003  203.080002  207.470001  207.470001   \n",
       "4    2022-11-07  208.649994  208.899994  196.660004  197.080002  197.080002   \n",
       "..          ...         ...         ...         ...         ...         ...   \n",
       "246  2023-10-25  215.880005  220.100006  212.199997  212.419998  212.419998   \n",
       "247  2023-10-26  211.320007  214.800003  204.880005  205.759995  205.759995   \n",
       "248  2023-10-27  210.600006  212.410004  205.770004  207.300003  207.300003   \n",
       "249  2023-10-30  209.279999  210.880005  194.669998  197.360001  197.360001   \n",
       "250  2023-10-31  196.119995  202.800003  194.070007  200.839996  200.839996   \n",
       "\n",
       "        Volume  \n",
       "0     62688800  \n",
       "1     63070300  \n",
       "2     56538800  \n",
       "3     98622200  \n",
       "4     93916500  \n",
       "..         ...  \n",
       "246  107065100  \n",
       "247  115112600  \n",
       "248   94728100  \n",
       "249  136448200  \n",
       "250  117881000  \n",
       "\n",
       "[251 rows x 7 columns]"
      ]
     },
     "execution_count": 5,
     "metadata": {},
     "output_type": "execute_result"
    }
   ],
   "source": [
    "df = pd.read_csv(\"TSLA.csv\")\n",
    "df"
   ]
  },
  {
   "cell_type": "markdown",
   "metadata": {},
   "source": [
    "**Model 1:**"
   ]
  },
  {
   "cell_type": "code",
   "execution_count": 3,
   "metadata": {},
   "outputs": [
    {
     "data": {
      "image/png": "[encoded data removed]",
      "text/plain": [
       "<Figure size 640x480 with 1 Axes>"
      ]
     },
     "metadata": {},
     "output_type": "display_data"
    },
    {
     "name": "stdout",
     "output_type": "stream",
     "text": [
      "0.3431039763186903\n"
     ]
    }
   ],
   "source": [
    "x = []\n",
    "y = []\n",
    "for i in range(251):\n",
    "    x.append(i)\n",
    "    y.append(int(df.loc[i, \"Volume\"]))\n",
    "\n",
    "mymodel = np.poly1d(np.polyfit(x, y, 3))\n",
    "myline = np.linspace(1, 250)\n",
    "\n",
    "plt.scatter(x, y)\n",
    "plt.plot(myline, mymodel(myline), color = 'red')\n",
    "plt.show()\n",
    "print(metrics.r2_score(y, mymodel(x)))"
   ]
  },
  {
   "cell_type": "markdown",
   "metadata": {},
   "source": [
    "An r-squared value of 0.352 indicate that it is a relationship."
   ]
  },
  {
   "cell_type": "code",
   "execution_count": 4,
   "metadata": {},
   "outputs": [
    {
     "name": "stdout",
     "output_type": "stream",
     "text": [
      "In the date 2025/06/23 00:00:00 GMT+0 the stock volume wil be 32379101527, according to this model.\n"
     ]
    }
   ],
   "source": [
    "date = input(\"Write a date on the form yy-mm-dd.\")\n",
    "try:\n",
    "    date = dt.DateTime(date)\n",
    "    date0 = df.loc[0, \"Date\"]\n",
    "    date0 = dt.DateTime(date0)\n",
    "    date_value = int(date - date0)\n",
    "\n",
    "    if date_value >= 0:\n",
    "        print(\"In the date \" + str(date) + \" the stock volume wil be \" + \n",
    "             str(int(mymodel(date_value))) + \", according to this model.\")\n",
    "\n",
    "    else:\n",
    "        print(\"The input date is negative!\")\n",
    "\n",
    "except:\n",
    "    print(\"The input value is not convertible!\")"
   ]
  }
 ],
 "metadata": {
  "kernelspec": {
   "display_name": "base",
   "language": "python",
   "name": "python3"
  },
  "language_info": {
   "codemirror_mode": {
    "name": "ipython",
    "version": 3
   },
   "file_extension": ".py",
   "mimetype": "text/x-python",
   "name": "python",
   "nbconvert_exporter": "python",
   "pygments_lexer": "ipython3",
   "version": "3.11.4"
  },
  "orig_nbformat": 4
 },
 "nbformat": 4,
 "nbformat_minor": 2
}
